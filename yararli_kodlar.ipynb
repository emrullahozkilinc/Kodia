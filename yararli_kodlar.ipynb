{
  "nbformat": 4,
  "nbformat_minor": 0,
  "metadata": {
    "colab": {
      "name": "yararli_kodlar.ipynb",
      "provenance": [],
      "collapsed_sections": [],
      "authorship_tag": "ABX9TyNP/fyiQijAwFiCJfWmUpqM",
      "include_colab_link": true
    },
    "kernelspec": {
      "name": "python3",
      "display_name": "Python 3"
    }
  },
  "cells": [
    {
      "cell_type": "markdown",
      "metadata": {
        "id": "view-in-github",
        "colab_type": "text"
      },
      "source": [
        "<a href=\"https://colab.research.google.com/github/emrullahozkilinc/Kodia/blob/master/yararli_kodlar.ipynb\" target=\"_parent\"><img src=\"https://colab.research.google.com/assets/colab-badge.svg\" alt=\"Open In Colab\"/></a>"
      ]
    },
    {
      "cell_type": "code",
      "metadata": {
        "id": "lRn0ACM_61Qj",
        "colab_type": "code",
        "colab": {}
      },
      "source": [
        "#Veri setindeki missing data'yı grafiklendirme\n",
        "import missingno as msno\n",
        "msno.matrix({veri_seti}.sample(300))"
      ],
      "execution_count": 0,
      "outputs": []
    }
  ]
}